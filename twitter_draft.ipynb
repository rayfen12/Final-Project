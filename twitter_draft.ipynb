{
 "cells": [
  {
   "cell_type": "code",
   "execution_count": 6,
   "metadata": {},
   "outputs": [],
   "source": [
    "# Import dependencies \n",
    "import numpy as np\n",
    "from twitter import *\n",
    "import pandas as pd \n",
    "import datetime\n",
    "import matplotlib.pyplot as plt  \n",
    "%matplotlib inline"
   ]
  },
  {
   "cell_type": "code",
   "execution_count": 3,
   "metadata": {},
   "outputs": [],
   "source": [
    "#The tokens and consumers keys are my API authentication to use the Twitter API.  I'm using the twitter library as a python\n",
    "#wrapper to call twitter request through python.\n",
    "token = '1212463191910842368-l00ryMICeXQXXawl8w2zazEoFS7xDf'\n",
    "token_secret = 'hbzjFRq1r2ygkydPXfrwrhm5zTa54F3mYEm2wi7Q09DgA'\n",
    "consumer_key = 'g8V7jnF3dqMfg4LRhtobYB4Pl'\n",
    "consumer_secret = 'Y0SHSL0H9X9gCtuy07mJ3cp144DS2JhwX4Uvgda2ph8NvIUswJ'\n",
    "\n",
    "t = Twitter(\n",
    "        auth=OAuth(token, token_secret, consumer_key, consumer_secret))"
   ]
  },
  {
   "cell_type": "code",
   "execution_count": 4,
   "metadata": {},
   "outputs": [
    {
     "data": {
      "text/plain": [
       "twitter.api.Twitter"
      ]
     },
     "execution_count": 4,
     "metadata": {},
     "output_type": "execute_result"
    }
   ],
   "source": [
    "type(t)"
   ]
  },
  {
   "cell_type": "code",
   "execution_count": 5,
   "metadata": {},
   "outputs": [
    {
     "ename": "SyntaxError",
     "evalue": "invalid syntax (<ipython-input-5-bf118c2bdbc3>, line 1)",
     "output_type": "error",
     "traceback": [
      "\u001b[1;36m  File \u001b[1;32m\"<ipython-input-5-bf118c2bdbc3>\"\u001b[1;36m, line \u001b[1;32m1\u001b[0m\n\u001b[1;33m    The function below gets a person's timeline\u001b[0m\n\u001b[1;37m               ^\u001b[0m\n\u001b[1;31mSyntaxError\u001b[0m\u001b[1;31m:\u001b[0m invalid syntax\n"
     ]
    }
   ],
   "source": [
    "The function below gets a person's timeline\n",
    "Note: Count can't be greater than 200\n",
    "x = t.statuses.user_timeline(screen_name=\"BernieSanders\", count=20, include_rts=False, tweet_mode = 'extended')"
   ]
  },
  {
   "cell_type": "code",
   "execution_count": null,
   "metadata": {},
   "outputs": [],
   "source": [
    "# Creating a for loop to inserts Hillary's tweets in a list\n",
    "Bernie_tweet = []\n",
    "for x in x:\n",
    "    Bernie_tweet.append(x)"
   ]
  },
  {
   "cell_type": "code",
   "execution_count": null,
   "metadata": {},
   "outputs": [],
   "source": [
    "# Bernie_tweet[0:5]"
   ]
  },
  {
   "cell_type": "code",
   "execution_count": null,
   "metadata": {},
   "outputs": [],
   "source": [
    "# type(Bernie_tweet)"
   ]
  },
  {
   "cell_type": "code",
   "execution_count": null,
   "metadata": {},
   "outputs": [],
   "source": [
    "# I just want to focus on ids and tweets\n",
    "for element in Bernie_tweet:\n",
    "    print (element['id'])\n",
    "    print (element['full_text'])\n",
    "    print('---')"
   ]
  },
  {
   "cell_type": "code",
   "execution_count": null,
   "metadata": {},
   "outputs": [],
   "source": [
    "# #(TweetMiner) I found this function that easily organizes the tweets to input them into a panda dataframe\n",
    "\n",
    "# class TweetMiner(object):\n",
    "\n",
    "    \n",
    "#     def __init__(self, t, result_limit = 200):\n",
    "        \n",
    "#         self.t = t        \n",
    "#         self.result_limit = result_limit\n",
    "        \n",
    "\n",
    "#     def mine_user_tweets(self, user=\"BernieSanders\", mine_retweets=False, max_pages=20):\n",
    "\n",
    "#         data           =  []\n",
    "#         last_tweet_id  =  False\n",
    "#         page           =  1\n",
    "        \n",
    "#         while page <= max_pages:\n",
    "            \n",
    "#             if last_tweet_id:\n",
    "#                 statuses   =   self.t.statuses.user_timeline(screen_name=user, count=self.result_limit, max_id=last_tweet_id - 1, include_rts=mine_retweets, tweet_mode = 'extended')\n",
    "#                 statuses = [x for x in statuses]\n",
    "#             else:\n",
    "#                 statuses   =   self.t.statuses.user_timeline(screen_name=user, count=self.result_limit, include_rts=mine_retweets, tweet_mode = 'extended')\n",
    "#                 statuses = [x for x in statuses]\n",
    "                \n",
    "#             for item in statuses:\n",
    "#                 # Using try except here.\n",
    "#                 # When retweets = 0 we get an error (GetUserTimeline fails to create a key, 'retweet_count')\n",
    "#                 try:\n",
    "#                     mined = {\n",
    "#                         'tweet_id':        item['id'],\n",
    "#                         'handle':          item['user']['screen_name'],\n",
    "#                         'retweet_count':   item['retweet_count'],\n",
    "#                         'text':            item['full_text'],\n",
    "#                         'mined_at':        datetime.datetime.now(),\n",
    "#                         'created_at':      item['created_at'],\n",
    "#                     }\n",
    "                \n",
    "#                 except:\n",
    "#                         mined = {\n",
    "#                         'tweet_id':        item['id'],\n",
    "#                         'handle':          item['user']['screen_name'],\n",
    "#                         'retweet_count':   0,\n",
    "#                         'text':            item['full_text'],\n",
    "#                         'mined_at':        datetime.datetime.now(),\n",
    "#                         'created_at':      item['created_at'],\n",
    "#                     }\n",
    "                \n",
    "#                 last_tweet_id = item['id']\n",
    "#                 data.append(mined)\n",
    "                \n",
    "#             page += 1\n",
    "            \n",
    "#         return data"
   ]
  },
  {
   "cell_type": "code",
   "execution_count": null,
   "metadata": {},
   "outputs": [],
   "source": [
    "# # Result limit == count parameter from our GetUserTimeline()\n",
    "# miner = TweetMiner(t, result_limit=200)"
   ]
  },
  {
   "cell_type": "code",
   "execution_count": null,
   "metadata": {},
   "outputs": [],
   "source": [
    "# bernie = miner.mine_user_tweets(user=\"BernieSanders\")\n",
    "# elizabeth = miner.mine_user_tweets(user=\"ewarren\")"
   ]
  },
  {
   "cell_type": "code",
   "execution_count": null,
   "metadata": {},
   "outputs": [],
   "source": [
    "# # each tweet is dictionary within a list\n",
    "# bernie[0:5]"
   ]
  },
  {
   "cell_type": "code",
   "execution_count": null,
   "metadata": {},
   "outputs": [],
   "source": [
    "# for x in range(5):\n",
    "#     print (bernie[x]['text'])\n",
    "#     print('---')"
   ]
  },
  {
   "cell_type": "code",
   "execution_count": null,
   "metadata": {},
   "outputs": [],
   "source": [
    "# for x in range(5):\n",
    "#     print (elizabeth[x]['text'])\n",
    "#     print('--')"
   ]
  },
  {
   "cell_type": "code",
   "execution_count": null,
   "metadata": {},
   "outputs": [],
   "source": [
    "# # Turning Bernie's tweet into a dataframe:\n",
    "# bernie_df = pd.DataFrame(bernie)\n",
    "# bernie_df.head()"
   ]
  },
  {
   "cell_type": "code",
   "execution_count": null,
   "metadata": {},
   "outputs": [],
   "source": [
    "# # Doing the same for Elizabeth Warren\n",
    "# miner = TweetMiner(t, result_limit=200)\n",
    "# elizabeth_tweets = miner.mine_user_tweets(\"ewarren\", max_pages=30)"
   ]
  },
  {
   "cell_type": "code",
   "execution_count": null,
   "metadata": {},
   "outputs": [],
   "source": [
    "# elizabeth_df = pd.DataFrame(elizabeth_tweets)"
   ]
  },
  {
   "cell_type": "code",
   "execution_count": null,
   "metadata": {},
   "outputs": [],
   "source": [
    "# elizabeth_df.head()"
   ]
  },
  {
   "cell_type": "code",
   "execution_count": null,
   "metadata": {},
   "outputs": [],
   "source": [
    "# bernie_df.shape"
   ]
  },
  {
   "cell_type": "code",
   "execution_count": null,
   "metadata": {},
   "outputs": [],
   "source": [
    "# elizabeth_df.shape"
   ]
  },
  {
   "cell_type": "code",
   "execution_count": null,
   "metadata": {},
   "outputs": [],
   "source": [
    "# # Joined elizabeth & Bernie Dataframe\n",
    "# tweets = pd.concat([elizabeth_df, bernie_df], axis=0)\n",
    "# tweets.shape"
   ]
  },
  {
   "cell_type": "code",
   "execution_count": null,
   "metadata": {},
   "outputs": [],
   "source": [
    "# tweets.head()"
   ]
  },
  {
   "cell_type": "code",
   "execution_count": 81,
   "metadata": {},
   "outputs": [],
   "source": [
    "# The library below convert a collection of text documents to a matrix of token counts\n",
    "from sklearn.feature_extraction.text import TfidfVectorizer\n",
    "\n",
    "# The library stores dictionary values as counts \n",
    "from collections import Counter"
   ]
  },
  {
   "cell_type": "code",
   "execution_count": null,
   "metadata": {},
   "outputs": [],
   "source": [
    "# # Using TfidfVectorizer to find ngrams for Elizabeth's tweets\n",
    "# vect = TfidfVectorizer(ngram_range=(2,5), stop_words='english')\n",
    "# vect"
   ]
  },
  {
   "cell_type": "code",
   "execution_count": null,
   "metadata": {},
   "outputs": [],
   "source": [
    "# # Pulls all of Elizabeth's tweet text's into one giant string\n",
    "# summaries = \"\".join(elizabeth_df['text'])\n",
    "# summaries"
   ]
  },
  {
   "cell_type": "code",
   "execution_count": null,
   "metadata": {},
   "outputs": [],
   "source": [
    "# # vect.builder_analyzer handles the preprocessing, tokenization and n-grams generation\n",
    "# ngrams_summaries = vect.build_analyzer()(summaries)\n",
    "# ngrams_summaries"
   ]
  },
  {
   "cell_type": "code",
   "execution_count": null,
   "metadata": {},
   "outputs": [],
   "source": [
    "# Counter(ngrams_summaries).most_common(20)"
   ]
  },
  {
   "cell_type": "code",
   "execution_count": null,
   "metadata": {},
   "outputs": [],
   "source": [
    "# #Doing the same process for Bernie\n",
    "# vect = TfidfVectorizer(ngram_range=(2,5), stop_words='english')\n",
    "\n",
    "# summaries = \"\".join(bernie_df['text'])\n",
    "# ngrams_summaries = vect.build_analyzer()(summaries)\n",
    "\n",
    "# Counter(ngrams_summaries).most_common(20)"
   ]
  },
  {
   "cell_type": "code",
   "execution_count": null,
   "metadata": {},
   "outputs": [],
   "source": [
    "# #Wine search to look for #wine in the full text.  Twee_mode='extended' reflects the full tweet, not truncated.\n",
    "# wine = t.search.tweets(q='$aapl', include_rts=False, tweet_mode='extended')"
   ]
  },
  {
   "cell_type": "code",
   "execution_count": null,
   "metadata": {},
   "outputs": [],
   "source": [
    "# type(wine)"
   ]
  },
  {
   "cell_type": "code",
   "execution_count": null,
   "metadata": {},
   "outputs": [],
   "source": [
    "# wine"
   ]
  },
  {
   "cell_type": "code",
   "execution_count": null,
   "metadata": {},
   "outputs": [],
   "source": [
    "# wine_list = wine['statuses']"
   ]
  },
  {
   "cell_type": "code",
   "execution_count": null,
   "metadata": {},
   "outputs": [],
   "source": [
    "# type(wine_list)"
   ]
  },
  {
   "cell_type": "code",
   "execution_count": null,
   "metadata": {},
   "outputs": [],
   "source": [
    "# wine_list"
   ]
  },
  {
   "cell_type": "code",
   "execution_count": null,
   "metadata": {},
   "outputs": [],
   "source": [
    "# # Showing how #wine reflects within the full text\n",
    "# for element in wine_list[0:5]:\n",
    "#     print (element['id'])\n",
    "#     print (element['full_text'])\n",
    "#     print('---')"
   ]
  },
  {
   "cell_type": "code",
   "execution_count": null,
   "metadata": {},
   "outputs": [],
   "source": [
    "# #(TweetMiner) I found this function that easily organizes the tweets to input them into a panda dataframe\n",
    "\n",
    "# class TweetMiner(object):\n",
    "\n",
    "    \n",
    "#     def __init__(self, t, result_limit = 200):\n",
    "        \n",
    "#         self.t = t        \n",
    "#         self.result_limit = result_limit\n",
    "        \n",
    "\n",
    "#     def mine_user_tweets(self, topic=\"#wine\", mine_retweets=False, max_pages=20):\n",
    "\n",
    "#         data           =  []\n",
    "#         last_tweet_id  =  False\n",
    "#         page           =  1\n",
    "        \n",
    "#         while page <= max_pages:\n",
    "            \n",
    "#             if last_tweet_id:\n",
    "#                 statuses   =   self.t.search.tweets(q='#wine', count=self.result_limit, max_id=last_tweet_id - 1, include_rts=mine_retweets, tweet_mode='extended')\n",
    "#                 statuses = [x for x in statuses['statuses']]\n",
    "#             else:\n",
    "#                 statuses   =   self.t.search.tweets(q='#wine', count=self.result_limit, include_rts=mine_retweets, tweet_mode='extended')\n",
    "#                 statuses = [x for x in statuses['statuses']]\n",
    "                \n",
    "#             for item in statuses:\n",
    "#                 # Using try except here.\n",
    "#                 # When retweets = 0 we get an error (GetUserTimeline fails to create a key, 'retweet_count')\n",
    "#                 try:\n",
    "#                     mined = {\n",
    "#                         'tweet_id':        item['id'],\n",
    "#                         'handle':          item['user']['screen_name'],\n",
    "#                         'retweet_count':   item['retweet_count'],\n",
    "#                         'text':            item['full_text'],\n",
    "#                         'mined_at':        datetime.datetime.now(),\n",
    "#                         'created_at':      item['created_at'],\n",
    "#                     }\n",
    "                \n",
    "#                 except:\n",
    "#                         mined = {\n",
    "#                         'tweet_id':        item['id'],\n",
    "#                         'handle':          item['user']['screen_name'],\n",
    "#                         'retweet_count':   0,\n",
    "#                         'text':            item['full_text'],\n",
    "#                         'mined_at':        datetime.datetime.now(),\n",
    "#                         'created_at':      item['created_at'],\n",
    "#                     }\n",
    "                \n",
    "#                 last_tweet_id = item['id']\n",
    "#                 data.append(mined)\n",
    "                \n",
    "#             page += 1\n",
    "            \n",
    "#         return data"
   ]
  },
  {
   "cell_type": "code",
   "execution_count": null,
   "metadata": {},
   "outputs": [],
   "source": [
    "# miner = TweetMiner(t, result_limit=200)"
   ]
  },
  {
   "cell_type": "code",
   "execution_count": null,
   "metadata": {},
   "outputs": [],
   "source": [
    "# wine = miner.mine_user_tweets(topic=\"$appl\")"
   ]
  },
  {
   "cell_type": "code",
   "execution_count": null,
   "metadata": {},
   "outputs": [],
   "source": [
    "# wine"
   ]
  },
  {
   "cell_type": "code",
   "execution_count": null,
   "metadata": {},
   "outputs": [],
   "source": [
    "# wine_tweet_df = pd.DataFrame(wine)\n",
    "# wine_tweet_df.head()"
   ]
  },
  {
   "cell_type": "code",
   "execution_count": null,
   "metadata": {},
   "outputs": [],
   "source": [
    "# wine_list = (wine_tweet_df.text)"
   ]
  },
  {
   "cell_type": "code",
   "execution_count": null,
   "metadata": {},
   "outputs": [],
   "source": [
    "# type(wine_list)"
   ]
  },
  {
   "cell_type": "code",
   "execution_count": null,
   "metadata": {},
   "outputs": [],
   "source": [
    "# #Vectorizing the wine df\n",
    "# vect = TfidfVectorizer(ngram_range=(2,5), stop_words='english')\n",
    "\n",
    "# summaries = \"\".join(wine_tweet_df['text'])\n",
    "# ngrams_summaries = vect.build_analyzer()(summaries)\n",
    "\n",
    "# Counter(ngrams_summaries).most_common(20)"
   ]
  },
  {
   "cell_type": "code",
   "execution_count": 7,
   "metadata": {},
   "outputs": [],
   "source": [
    "from textblob import TextBlob"
   ]
  },
  {
   "cell_type": "code",
   "execution_count": null,
   "metadata": {},
   "outputs": [],
   "source": [
    "# # Showing tweet sentiment in Bernie df\n",
    "# # Polarity ranges from -1 (most negative) to 1 (most positive).\n",
    "# # Subjectivity ranges from 0.0 (very objective) to 1.0 (very subjective)\n",
    "# for tweet in bernie_df['text']:\n",
    "#     print(tweet)\n",
    "#     analysis = TextBlob(tweet)\n",
    "#     print('---')\n",
    "#     print(analysis.sentiment)\n",
    "#     print('---')"
   ]
  },
  {
   "cell_type": "code",
   "execution_count": null,
   "metadata": {},
   "outputs": [],
   "source": [
    "# # Showing tweet sentiment in wine\n",
    "# for tweet in wine_tweet_df['text']:\n",
    "#     print(tweet)\n",
    "#     analysis = TextBlob(tweet)\n",
    "#     print(analysis.sentiment)\n",
    "#     print('---')"
   ]
  },
  {
   "cell_type": "code",
   "execution_count": null,
   "metadata": {},
   "outputs": [],
   "source": [
    "# def detect_polarity(text):\n",
    "#     return TextBlob(text).sentiment.polarity\n",
    "#     wine_tweet_df['polarity'] = wine_tweet_df.text.apply(detect_polarity)\n",
    "# wine_tweet_df.head(100)"
   ]
  },
  {
   "cell_type": "code",
   "execution_count": null,
   "metadata": {},
   "outputs": [],
   "source": [
    "ticker_df = pd.read_csv('constituents_csv.csv')"
   ]
  },
  {
   "cell_type": "code",
   "execution_count": null,
   "metadata": {},
   "outputs": [],
   "source": [
    "ticker_df.head()"
   ]
  },
  {
   "cell_type": "code",
   "execution_count": null,
   "metadata": {},
   "outputs": [],
   "source": [
    "# wine_tweet_df.head()"
   ]
  },
  {
   "cell_type": "code",
   "execution_count": null,
   "metadata": {},
   "outputs": [],
   "source": [
    "# wine_tweet_df.shape"
   ]
  },
  {
   "cell_type": "code",
   "execution_count": 65,
   "metadata": {},
   "outputs": [],
   "source": [
    "# Tweeter Api that searches for tweets based of hashtags and other raw text\n",
    "aapl_tweet= t.search.tweets(q='$aapl', include_rts=False, tweet_mode='extended', count=100)"
   ]
  },
  {
   "cell_type": "code",
   "execution_count": 66,
   "metadata": {},
   "outputs": [
    {
     "data": {
      "text/plain": [
       "twitter.api.TwitterDictResponse"
      ]
     },
     "execution_count": 66,
     "metadata": {},
     "output_type": "execute_result"
    }
   ],
   "source": [
    "type(aapl_tweet)"
   ]
  },
  {
   "cell_type": "code",
   "execution_count": 67,
   "metadata": {},
   "outputs": [],
   "source": [
    "# Drilled down to the statuses list to grab the metadata I need \n",
    "aapl_dict = aapl_tweet['statuses']"
   ]
  },
  {
   "cell_type": "code",
   "execution_count": 69,
   "metadata": {},
   "outputs": [
    {
     "data": {
      "text/plain": [
       "[{'created_at': 'Wed Jan 15 02:22:11 +0000 2020',\n",
       "  'id': 1217270725519794177,\n",
       "  'id_str': '1217270725519794177',\n",
       "  'full_text': 'RT @bullishstocks7: Looking for an investor in my startup, has the potential to get 100x your investment. Must be willing to sign an NDA. C…',\n",
       "  'truncated': False,\n",
       "  'display_text_range': [0, 140],\n",
       "  'entities': {'hashtags': [],\n",
       "   'symbols': [],\n",
       "   'user_mentions': [{'screen_name': 'bullishstocks7',\n",
       "     'name': 'reaching my goals!',\n",
       "     'id': 870811925679976448,\n",
       "     'id_str': '870811925679976448',\n",
       "     'indices': [3, 18]}],\n",
       "   'urls': []},\n",
       "  'metadata': {'iso_language_code': 'en', 'result_type': 'recent'},\n",
       "  'source': '<a href=\"http://twitter.com/download/iphone\" rel=\"nofollow\">Twitter for iPhone</a>',\n",
       "  'in_reply_to_status_id': None,\n",
       "  'in_reply_to_status_id_str': None,\n",
       "  'in_reply_to_user_id': None,\n",
       "  'in_reply_to_user_id_str': None,\n",
       "  'in_reply_to_screen_name': None,\n",
       "  'user': {'id': 940270718016720897,\n",
       "   'id_str': '940270718016720897',\n",
       "   'name': 'SMU HYPE plz followback',\n",
       "   'screen_name': 'hardwork2018',\n",
       "   'location': 'Texas, USA',\n",
       "   'description': 'please follow back because we will be sharing all the cool events and hottest deals near you nearest you!',\n",
       "   'url': None,\n",
       "   'entities': {'description': {'urls': []}},\n",
       "   'protected': False,\n",
       "   'followers_count': 309,\n",
       "   'friends_count': 3282,\n",
       "   'listed_count': 0,\n",
       "   'created_at': 'Mon Dec 11 17:23:03 +0000 2017',\n",
       "   'favourites_count': 2010,\n",
       "   'utc_offset': None,\n",
       "   'time_zone': None,\n",
       "   'geo_enabled': False,\n",
       "   'verified': False,\n",
       "   'statuses_count': 64,\n",
       "   'lang': None,\n",
       "   'contributors_enabled': False,\n",
       "   'is_translator': False,\n",
       "   'is_translation_enabled': False,\n",
       "   'profile_background_color': 'F5F8FA',\n",
       "   'profile_background_image_url': None,\n",
       "   'profile_background_image_url_https': None,\n",
       "   'profile_background_tile': False,\n",
       "   'profile_image_url': 'http://pbs.twimg.com/profile_images/1217270658444468226/8V4uVO3u_normal.jpg',\n",
       "   'profile_image_url_https': 'https://pbs.twimg.com/profile_images/1217270658444468226/8V4uVO3u_normal.jpg',\n",
       "   'profile_banner_url': 'https://pbs.twimg.com/profile_banners/940270718016720897/1577046236',\n",
       "   'profile_link_color': '1DA1F2',\n",
       "   'profile_sidebar_border_color': 'C0DEED',\n",
       "   'profile_sidebar_fill_color': 'DDEEF6',\n",
       "   'profile_text_color': '333333',\n",
       "   'profile_use_background_image': True,\n",
       "   'has_extended_profile': True,\n",
       "   'default_profile': True,\n",
       "   'default_profile_image': False,\n",
       "   'following': False,\n",
       "   'follow_request_sent': False,\n",
       "   'notifications': False,\n",
       "   'translator_type': 'none'},\n",
       "  'geo': None,\n",
       "  'coordinates': None,\n",
       "  'place': None,\n",
       "  'contributors': None,\n",
       "  'retweeted_status': {'created_at': 'Tue Jan 14 23:13:21 +0000 2020',\n",
       "   'id': 1217223205280272384,\n",
       "   'id_str': '1217223205280272384',\n",
       "   'full_text': 'Looking for an investor in my startup, has the potential to get 100x your investment. Must be willing to sign an NDA. Comment your name and I will follow you and we can PM $AAPL $ACB $ABEV $ACST $FB $AMZN $AMD $AMLP $BAC $BMY $BSX $BYND $C $CGC $CRON $EEM $EFA $F $FCX $FXI $GE $T https://t.co/aj1FWt7gRK',\n",
       "   'truncated': False,\n",
       "   'display_text_range': [0, 280],\n",
       "   'entities': {'hashtags': [],\n",
       "    'symbols': [{'text': 'AAPL', 'indices': [172, 177]},\n",
       "     {'text': 'ACB', 'indices': [178, 182]},\n",
       "     {'text': 'ABEV', 'indices': [183, 188]},\n",
       "     {'text': 'ACST', 'indices': [189, 194]},\n",
       "     {'text': 'FB', 'indices': [195, 198]},\n",
       "     {'text': 'AMZN', 'indices': [199, 204]},\n",
       "     {'text': 'AMD', 'indices': [205, 209]},\n",
       "     {'text': 'AMLP', 'indices': [210, 215]},\n",
       "     {'text': 'BAC', 'indices': [216, 220]},\n",
       "     {'text': 'BMY', 'indices': [221, 225]},\n",
       "     {'text': 'BSX', 'indices': [226, 230]},\n",
       "     {'text': 'BYND', 'indices': [231, 236]},\n",
       "     {'text': 'C', 'indices': [237, 239]},\n",
       "     {'text': 'CGC', 'indices': [240, 244]},\n",
       "     {'text': 'CRON', 'indices': [245, 250]},\n",
       "     {'text': 'EEM', 'indices': [251, 255]},\n",
       "     {'text': 'EFA', 'indices': [256, 260]},\n",
       "     {'text': 'F', 'indices': [261, 263]},\n",
       "     {'text': 'FCX', 'indices': [264, 268]},\n",
       "     {'text': 'FXI', 'indices': [269, 273]},\n",
       "     {'text': 'GE', 'indices': [274, 277]},\n",
       "     {'text': 'T', 'indices': [278, 280]}],\n",
       "    'user_mentions': [],\n",
       "    'urls': [],\n",
       "    'media': [{'id': 1217223184518385672,\n",
       "      'id_str': '1217223184518385672',\n",
       "      'indices': [281, 304],\n",
       "      'media_url': 'http://pbs.twimg.com/media/EORyCYWWkAgiHbE.jpg',\n",
       "      'media_url_https': 'https://pbs.twimg.com/media/EORyCYWWkAgiHbE.jpg',\n",
       "      'url': 'https://t.co/aj1FWt7gRK',\n",
       "      'display_url': 'pic.twitter.com/aj1FWt7gRK',\n",
       "      'expanded_url': 'https://twitter.com/bullishstocks7/status/1217223205280272384/photo/1',\n",
       "      'type': 'photo',\n",
       "      'sizes': {'thumb': {'w': 150, 'h': 150, 'resize': 'crop'},\n",
       "       'small': {'w': 680, 'h': 680, 'resize': 'fit'},\n",
       "       'large': {'w': 1500, 'h': 1500, 'resize': 'fit'},\n",
       "       'medium': {'w': 1200, 'h': 1200, 'resize': 'fit'}}}]},\n",
       "   'extended_entities': {'media': [{'id': 1217223184518385672,\n",
       "      'id_str': '1217223184518385672',\n",
       "      'indices': [281, 304],\n",
       "      'media_url': 'http://pbs.twimg.com/media/EORyCYWWkAgiHbE.jpg',\n",
       "      'media_url_https': 'https://pbs.twimg.com/media/EORyCYWWkAgiHbE.jpg',\n",
       "      'url': 'https://t.co/aj1FWt7gRK',\n",
       "      'display_url': 'pic.twitter.com/aj1FWt7gRK',\n",
       "      'expanded_url': 'https://twitter.com/bullishstocks7/status/1217223205280272384/photo/1',\n",
       "      'type': 'photo',\n",
       "      'sizes': {'thumb': {'w': 150, 'h': 150, 'resize': 'crop'},\n",
       "       'small': {'w': 680, 'h': 680, 'resize': 'fit'},\n",
       "       'large': {'w': 1500, 'h': 1500, 'resize': 'fit'},\n",
       "       'medium': {'w': 1200, 'h': 1200, 'resize': 'fit'}}}]},\n",
       "   'metadata': {'iso_language_code': 'en', 'result_type': 'recent'},\n",
       "   'source': '<a href=\"http://twitter.com/download/iphone\" rel=\"nofollow\">Twitter for iPhone</a>',\n",
       "   'in_reply_to_status_id': None,\n",
       "   'in_reply_to_status_id_str': None,\n",
       "   'in_reply_to_user_id': None,\n",
       "   'in_reply_to_user_id_str': None,\n",
       "   'in_reply_to_screen_name': None,\n",
       "   'user': {'id': 870811925679976448,\n",
       "    'id_str': '870811925679976448',\n",
       "    'name': 'reaching my goals!',\n",
       "    'screen_name': 'bullishstocks7',\n",
       "    'location': 'Fort Worth, TX',\n",
       "    'description': 'Working hard to help small businesses thrive. I love mom and pop shops and family owned stores and want to see them succeed... stocks marketing',\n",
       "    'url': None,\n",
       "    'entities': {'description': {'urls': []}},\n",
       "    'protected': False,\n",
       "    'followers_count': 1214,\n",
       "    'friends_count': 3867,\n",
       "    'listed_count': 1,\n",
       "    'created_at': 'Sat Jun 03 01:18:36 +0000 2017',\n",
       "    'favourites_count': 3015,\n",
       "    'utc_offset': None,\n",
       "    'time_zone': None,\n",
       "    'geo_enabled': False,\n",
       "    'verified': False,\n",
       "    'statuses_count': 4101,\n",
       "    'lang': None,\n",
       "    'contributors_enabled': False,\n",
       "    'is_translator': False,\n",
       "    'is_translation_enabled': False,\n",
       "    'profile_background_color': 'F5F8FA',\n",
       "    'profile_background_image_url': None,\n",
       "    'profile_background_image_url_https': None,\n",
       "    'profile_background_tile': False,\n",
       "    'profile_image_url': 'http://pbs.twimg.com/profile_images/1216170447756242946/MhJ5vfCE_normal.jpg',\n",
       "    'profile_image_url_https': 'https://pbs.twimg.com/profile_images/1216170447756242946/MhJ5vfCE_normal.jpg',\n",
       "    'profile_banner_url': 'https://pbs.twimg.com/profile_banners/870811925679976448/1578642908',\n",
       "    'profile_link_color': '1DA1F2',\n",
       "    'profile_sidebar_border_color': 'C0DEED',\n",
       "    'profile_sidebar_fill_color': 'DDEEF6',\n",
       "    'profile_text_color': '333333',\n",
       "    'profile_use_background_image': True,\n",
       "    'has_extended_profile': False,\n",
       "    'default_profile': True,\n",
       "    'default_profile_image': False,\n",
       "    'following': False,\n",
       "    'follow_request_sent': False,\n",
       "    'notifications': False,\n",
       "    'translator_type': 'none'},\n",
       "   'geo': None,\n",
       "   'coordinates': None,\n",
       "   'place': None,\n",
       "   'contributors': None,\n",
       "   'is_quote_status': False,\n",
       "   'retweet_count': 2,\n",
       "   'favorite_count': 2,\n",
       "   'favorited': False,\n",
       "   'retweeted': False,\n",
       "   'possibly_sensitive': False,\n",
       "   'lang': 'en'},\n",
       "  'is_quote_status': False,\n",
       "  'retweet_count': 2,\n",
       "  'favorite_count': 0,\n",
       "  'favorited': False,\n",
       "  'retweeted': False,\n",
       "  'lang': 'en'},\n",
       " {'created_at': 'Wed Jan 15 02:21:52 +0000 2020',\n",
       "  'id': 1217270644099952640,\n",
       "  'id_str': '1217270644099952640',\n",
       "  'full_text': '🚨 US-China phase 1 trade deal signing ceremony to take place at 11.30am at the White House \\n————\\n$SPY $SPX $ES $DJX $AAPL $TSLA $BYND $AMZN $MSFT',\n",
       "  'truncated': False,\n",
       "  'display_text_range': [0, 145],\n",
       "  'entities': {'hashtags': [],\n",
       "   'symbols': [{'text': 'SPY', 'indices': [97, 101]},\n",
       "    {'text': 'SPX', 'indices': [102, 106]},\n",
       "    {'text': 'ES', 'indices': [107, 110]},\n",
       "    {'text': 'DJX', 'indices': [111, 115]},\n",
       "    {'text': 'AAPL', 'indices': [116, 121]},\n",
       "    {'text': 'TSLA', 'indices': [122, 127]},\n",
       "    {'text': 'BYND', 'indices': [128, 133]},\n",
       "    {'text': 'AMZN', 'indices': [134, 139]},\n",
       "    {'text': 'MSFT', 'indices': [140, 145]}],\n",
       "   'user_mentions': [],\n",
       "   'urls': []},\n",
       "  'metadata': {'iso_language_code': 'en', 'result_type': 'recent'},\n",
       "  'source': '<a href=\"http://twitter.com/download/iphone\" rel=\"nofollow\">Twitter for iPhone</a>',\n",
       "  'in_reply_to_status_id': None,\n",
       "  'in_reply_to_status_id_str': None,\n",
       "  'in_reply_to_user_id': None,\n",
       "  'in_reply_to_user_id_str': None,\n",
       "  'in_reply_to_screen_name': None,\n",
       "  'user': {'id': 1208832562455552003,\n",
       "   'id_str': '1208832562455552003',\n",
       "   'name': 'spacemonkey',\n",
       "   'screen_name': 'spacemnke',\n",
       "   'location': 'Space',\n",
       "   'description': 'Monkeying around in the options trading space',\n",
       "   'url': None,\n",
       "   'entities': {'description': {'urls': []}},\n",
       "   'protected': False,\n",
       "   'followers_count': 74,\n",
       "   'friends_count': 41,\n",
       "   'listed_count': 0,\n",
       "   'created_at': 'Sun Dec 22 19:32:49 +0000 2019',\n",
       "   'favourites_count': 93,\n",
       "   'utc_offset': None,\n",
       "   'time_zone': None,\n",
       "   'geo_enabled': False,\n",
       "   'verified': False,\n",
       "   'statuses_count': 422,\n",
       "   'lang': None,\n",
       "   'contributors_enabled': False,\n",
       "   'is_translator': False,\n",
       "   'is_translation_enabled': False,\n",
       "   'profile_background_color': 'F5F8FA',\n",
       "   'profile_background_image_url': None,\n",
       "   'profile_background_image_url_https': None,\n",
       "   'profile_background_tile': False,\n",
       "   'profile_image_url': 'http://pbs.twimg.com/profile_images/1208832845596241922/r3ANwaTA_normal.jpg',\n",
       "   'profile_image_url_https': 'https://pbs.twimg.com/profile_images/1208832845596241922/r3ANwaTA_normal.jpg',\n",
       "   'profile_banner_url': 'https://pbs.twimg.com/profile_banners/1208832562455552003/1578745977',\n",
       "   'profile_link_color': '1DA1F2',\n",
       "   'profile_sidebar_border_color': 'C0DEED',\n",
       "   'profile_sidebar_fill_color': 'DDEEF6',\n",
       "   'profile_text_color': '333333',\n",
       "   'profile_use_background_image': True,\n",
       "   'has_extended_profile': True,\n",
       "   'default_profile': True,\n",
       "   'default_profile_image': False,\n",
       "   'following': False,\n",
       "   'follow_request_sent': False,\n",
       "   'notifications': False,\n",
       "   'translator_type': 'none'},\n",
       "  'geo': None,\n",
       "  'coordinates': None,\n",
       "  'place': None,\n",
       "  'contributors': None,\n",
       "  'is_quote_status': False,\n",
       "  'retweet_count': 0,\n",
       "  'favorite_count': 0,\n",
       "  'favorited': False,\n",
       "  'retweeted': False,\n",
       "  'lang': 'en'},\n",
       " {'created_at': 'Wed Jan 15 02:21:18 +0000 2020',\n",
       "  'id': 1217270505146728448,\n",
       "  'id_str': '1217270505146728448',\n",
       "  'full_text': '$AAPL - Short bias. Overvalued, and the President tweeted ab them not unlocking phones, depending on how large the gap down is, prepare to short this below the PM low. Below 309 is still a level to watch tho. We have to see where we open.',\n",
       "  'truncated': False,\n",
       "  'display_text_range': [0, 238],\n",
       "  'entities': {'hashtags': [],\n",
       "   'symbols': [{'text': 'AAPL', 'indices': [0, 5]}],\n",
       "   'user_mentions': [],\n",
       "   'urls': []},\n",
       "  'metadata': {'iso_language_code': 'en', 'result_type': 'recent'},\n",
       "  'source': '<a href=\"https://mobile.twitter.com\" rel=\"nofollow\">Twitter Web App</a>',\n",
       "  'in_reply_to_status_id': None,\n",
       "  'in_reply_to_status_id_str': None,\n",
       "  'in_reply_to_user_id': None,\n",
       "  'in_reply_to_user_id_str': None,\n",
       "  'in_reply_to_screen_name': None,\n",
       "  'user': {'id': 84919916,\n",
       "   'id_str': '84919916',\n",
       "   'name': 'TradeLikeGates',\n",
       "   'screen_name': 'TradeLikeGates',\n",
       "   'location': 'San Diego, CA',\n",
       "   'description': 'Options Day Trader. I operate a Discord Server for stocks. Join us below',\n",
       "   'url': 'https://t.co/WNpbuddbNK',\n",
       "   'entities': {'url': {'urls': [{'url': 'https://t.co/WNpbuddbNK',\n",
       "       'expanded_url': 'https://discord.gg/jM9MEee',\n",
       "       'display_url': 'discord.gg/jM9MEee',\n",
       "       'indices': [0, 23]}]},\n",
       "    'description': {'urls': []}},\n",
       "   'protected': False,\n",
       "   'followers_count': 182,\n",
       "   'friends_count': 32,\n",
       "   'listed_count': 4,\n",
       "   'created_at': 'Sat Oct 24 19:26:45 +0000 2009',\n",
       "   'favourites_count': 33,\n",
       "   'utc_offset': None,\n",
       "   'time_zone': None,\n",
       "   'geo_enabled': False,\n",
       "   'verified': False,\n",
       "   'statuses_count': 268,\n",
       "   'lang': None,\n",
       "   'contributors_enabled': False,\n",
       "   'is_translator': False,\n",
       "   'is_translation_enabled': False,\n",
       "   'profile_background_color': 'C0DEED',\n",
       "   'profile_background_image_url': 'http://abs.twimg.com/images/themes/theme1/bg.png',\n",
       "   'profile_background_image_url_https': 'https://abs.twimg.com/images/themes/theme1/bg.png',\n",
       "   'profile_background_tile': False,\n",
       "   'profile_image_url': 'http://pbs.twimg.com/profile_images/1212923965594730496/NNalQwov_normal.jpg',\n",
       "   'profile_image_url_https': 'https://pbs.twimg.com/profile_images/1212923965594730496/NNalQwov_normal.jpg',\n",
       "   'profile_link_color': '1DA1F2',\n",
       "   'profile_sidebar_border_color': 'C0DEED',\n",
       "   'profile_sidebar_fill_color': 'DDEEF6',\n",
       "   'profile_text_color': '333333',\n",
       "   'profile_use_background_image': True,\n",
       "   'has_extended_profile': False,\n",
       "   'default_profile': True,\n",
       "   'default_profile_image': False,\n",
       "   'following': False,\n",
       "   'follow_request_sent': False,\n",
       "   'notifications': False,\n",
       "   'translator_type': 'none'},\n",
       "  'geo': None,\n",
       "  'coordinates': None,\n",
       "  'place': None,\n",
       "  'contributors': None,\n",
       "  'is_quote_status': False,\n",
       "  'retweet_count': 0,\n",
       "  'favorite_count': 0,\n",
       "  'favorited': False,\n",
       "  'retweeted': False,\n",
       "  'lang': 'en'},\n",
       " {'created_at': 'Wed Jan 15 02:20:56 +0000 2020',\n",
       "  'id': 1217270413190926336,\n",
       "  'id_str': '1217270413190926336',\n",
       "  'full_text': '@realDonaldTrump Careful mr president most of us agree the government should stay outta our phones. Congrats to $aapl for sticking up for its customers. Now mr president it is ur job to find a way into that phone. But apple is right to deny law enforcement permission to our personal data sorry',\n",
       "  'truncated': False,\n",
       "  'display_text_range': [17, 294],\n",
       "  'entities': {'hashtags': [],\n",
       "   'symbols': [{'text': 'aapl', 'indices': [112, 117]}],\n",
       "   'user_mentions': [{'screen_name': 'realDonaldTrump',\n",
       "     'name': 'Donald J. Trump',\n",
       "     'id': 25073877,\n",
       "     'id_str': '25073877',\n",
       "     'indices': [0, 16]}],\n",
       "   'urls': []},\n",
       "  'metadata': {'iso_language_code': 'en', 'result_type': 'recent'},\n",
       "  'source': '<a href=\"http://twitter.com/download/android\" rel=\"nofollow\">Twitter for Android</a>',\n",
       "  'in_reply_to_status_id': 1217228960964038658,\n",
       "  'in_reply_to_status_id_str': '1217228960964038658',\n",
       "  'in_reply_to_user_id': 25073877,\n",
       "  'in_reply_to_user_id_str': '25073877',\n",
       "  'in_reply_to_screen_name': 'realDonaldTrump',\n",
       "  'user': {'id': 3152920558,\n",
       "   'id_str': '3152920558',\n",
       "   'name': 'Darren Goodwin',\n",
       "   'screen_name': 'BostonGoody',\n",
       "   'location': 'Boston, MA',\n",
       "   'description': 'Equities Trader New York Stock Exchange',\n",
       "   'url': None,\n",
       "   'entities': {'description': {'urls': []}},\n",
       "   'protected': False,\n",
       "   'followers_count': 807,\n",
       "   'friends_count': 4685,\n",
       "   'listed_count': 13,\n",
       "   'created_at': 'Thu Apr 09 22:09:19 +0000 2015',\n",
       "   'favourites_count': 18807,\n",
       "   'utc_offset': None,\n",
       "   'time_zone': None,\n",
       "   'geo_enabled': False,\n",
       "   'verified': False,\n",
       "   'statuses_count': 5750,\n",
       "   'lang': None,\n",
       "   'contributors_enabled': False,\n",
       "   'is_translator': False,\n",
       "   'is_translation_enabled': False,\n",
       "   'profile_background_color': 'C0DEED',\n",
       "   'profile_background_image_url': 'http://abs.twimg.com/images/themes/theme1/bg.png',\n",
       "   'profile_background_image_url_https': 'https://abs.twimg.com/images/themes/theme1/bg.png',\n",
       "   'profile_background_tile': False,\n",
       "   'profile_image_url': 'http://pbs.twimg.com/profile_images/586625715598155777/nJE_SQfy_normal.jpg',\n",
       "   'profile_image_url_https': 'https://pbs.twimg.com/profile_images/586625715598155777/nJE_SQfy_normal.jpg',\n",
       "   'profile_link_color': '1DA1F2',\n",
       "   'profile_sidebar_border_color': 'C0DEED',\n",
       "   'profile_sidebar_fill_color': 'DDEEF6',\n",
       "   'profile_text_color': '333333',\n",
       "   'profile_use_background_image': True,\n",
       "   'has_extended_profile': True,\n",
       "   'default_profile': True,\n",
       "   'default_profile_image': False,\n",
       "   'following': False,\n",
       "   'follow_request_sent': False,\n",
       "   'notifications': False,\n",
       "   'translator_type': 'none'},\n",
       "  'geo': None,\n",
       "  'coordinates': None,\n",
       "  'place': None,\n",
       "  'contributors': None,\n",
       "  'is_quote_status': False,\n",
       "  'retweet_count': 0,\n",
       "  'favorite_count': 0,\n",
       "  'favorited': False,\n",
       "  'retweeted': False,\n",
       "  'lang': 'en'},\n",
       " {'created_at': 'Wed Jan 15 02:20:30 +0000 2020',\n",
       "  'id': 1217270300632440835,\n",
       "  'id_str': '1217270300632440835',\n",
       "  'full_text': '@alphatrends I bought $1000 of $AAPL in 1982 when I was in HS and kept it for year. I sold it for about the same amount. I didn’t by anything else for another 10 years. I used to check the price daily by calling my broker until I got a CompuServe account and they had daily quotes.  1200 baud!',\n",
       "  'truncated': False,\n",
       "  'display_text_range': [13, 293],\n",
       "  'entities': {'hashtags': [],\n",
       "   'symbols': [{'text': 'AAPL', 'indices': [31, 36]}],\n",
       "   'user_mentions': [{'screen_name': 'alphatrends',\n",
       "     'name': 'Brian Shannon, CMT',\n",
       "     'id': 15246621,\n",
       "     'id_str': '15246621',\n",
       "     'indices': [0, 12]}],\n",
       "   'urls': []},\n",
       "  'metadata': {'iso_language_code': 'en', 'result_type': 'recent'},\n",
       "  'source': '<a href=\"http://twitter.com/download/iphone\" rel=\"nofollow\">Twitter for iPhone</a>',\n",
       "  'in_reply_to_status_id': 1217265069873983488,\n",
       "  'in_reply_to_status_id_str': '1217265069873983488',\n",
       "  'in_reply_to_user_id': 15246621,\n",
       "  'in_reply_to_user_id_str': '15246621',\n",
       "  'in_reply_to_screen_name': 'alphatrends',\n",
       "  'user': {'id': 518594544,\n",
       "   'id_str': '518594544',\n",
       "   'name': 'island2019',\n",
       "   'screen_name': 'island2019',\n",
       "   'location': 'Tucson',\n",
       "   'description': 'Learning technical based trading. Physicist in real life.',\n",
       "   'url': None,\n",
       "   'entities': {'description': {'urls': []}},\n",
       "   'protected': False,\n",
       "   'followers_count': 55,\n",
       "   'friends_count': 191,\n",
       "   'listed_count': 5,\n",
       "   'created_at': 'Thu Mar 08 15:27:19 +0000 2012',\n",
       "   'favourites_count': 4526,\n",
       "   'utc_offset': None,\n",
       "   'time_zone': None,\n",
       "   'geo_enabled': True,\n",
       "   'verified': False,\n",
       "   'statuses_count': 2812,\n",
       "   'lang': None,\n",
       "   'contributors_enabled': False,\n",
       "   'is_translator': False,\n",
       "   'is_translation_enabled': False,\n",
       "   'profile_background_color': 'C0DEED',\n",
       "   'profile_background_image_url': 'http://abs.twimg.com/images/themes/theme1/bg.png',\n",
       "   'profile_background_image_url_https': 'https://abs.twimg.com/images/themes/theme1/bg.png',\n",
       "   'profile_background_tile': False,\n",
       "   'profile_image_url': 'http://pbs.twimg.com/profile_images/1887034657/image_normal.jpg',\n",
       "   'profile_image_url_https': 'https://pbs.twimg.com/profile_images/1887034657/image_normal.jpg',\n",
       "   'profile_banner_url': 'https://pbs.twimg.com/profile_banners/518594544/1401130086',\n",
       "   'profile_link_color': '1DA1F2',\n",
       "   'profile_sidebar_border_color': 'C0DEED',\n",
       "   'profile_sidebar_fill_color': 'DDEEF6',\n",
       "   'profile_text_color': '333333',\n",
       "   'profile_use_background_image': True,\n",
       "   'has_extended_profile': False,\n",
       "   'default_profile': True,\n",
       "   'default_profile_image': False,\n",
       "   'following': False,\n",
       "   'follow_request_sent': False,\n",
       "   'notifications': False,\n",
       "   'translator_type': 'none'},\n",
       "  'geo': None,\n",
       "  'coordinates': None,\n",
       "  'place': None,\n",
       "  'contributors': None,\n",
       "  'is_quote_status': False,\n",
       "  'retweet_count': 0,\n",
       "  'favorite_count': 2,\n",
       "  'favorited': False,\n",
       "  'retweeted': False,\n",
       "  'lang': 'en'}]"
      ]
     },
     "execution_count": 69,
     "metadata": {},
     "output_type": "execute_result"
    }
   ],
   "source": [
    "aapl_dict[0:5]"
   ]
  },
  {
   "cell_type": "code",
   "execution_count": 70,
   "metadata": {},
   "outputs": [],
   "source": [
    "# The code below is a for loop to input the metadata we need from the tweets into separate lists.\n",
    "tw_list_date = []\n",
    "tw_list_screen_name = []\n",
    "tw_list_text = []\n",
    "tw_list_retweet = []\n",
    "tw_list_likes = []\n",
    "tw_list_polarity = []\n",
    "for element in aapl_dict:\n",
    "    tw_list_date.append(element['created_at'])\n",
    "    tw_list_screen_name.append(element['user']['screen_name'])\n",
    "    tw_list_text.append(element['full_text'])\n",
    "    tw_list_retweet.append(element['retweet_count'])\n",
    "    tw_list_likes.append(element['favorite_count'])\n",
    "    analysis = TextBlob(element['full_text'])\n",
    "    tw_list_polarity.append(analysis.sentiment.polarity)"
   ]
  },
  {
   "cell_type": "code",
   "execution_count": 71,
   "metadata": {},
   "outputs": [],
   "source": [
    "# The code below is combining all this list above into a dataframe\n",
    "tw_df = pd.DataFrame(list(zip(tw_list_date, tw_list_screen_name, tw_list_text, tw_list_retweet, tw_list_likes, tw_list_polarity)), \n",
    "               columns =['created_date', 'handle', 'text', 'retweet_count', 'likes_count', 'polarity'])"
   ]
  },
  {
   "cell_type": "code",
   "execution_count": 72,
   "metadata": {},
   "outputs": [],
   "source": [
    "#tw_df.head()"
   ]
  },
  {
   "cell_type": "code",
   "execution_count": 73,
   "metadata": {},
   "outputs": [],
   "source": [
    "# This for loop has the if conditions for polarity\n",
    "sentiment_list = [] \n",
    "for value in tw_df[\"polarity\"]: \n",
    "    if value == -1 and value <= -0.5: \n",
    "        sentiment_list.append(\"Negative\") \n",
    "    elif value > -0.5 and value < 0: \n",
    "        sentiment_list.append(\"Somewhat Negative\")\n",
    "    elif value == 0:\n",
    "        sentiment_list.append('Neutral')\n",
    "    elif value >= 0.1 and value <= 0.5:\n",
    "        sentiment_list.append('Somewhat Postive')\n",
    "    else: \n",
    "        sentiment_list.append(\"Positive\") "
   ]
  },
  {
   "cell_type": "code",
   "execution_count": 74,
   "metadata": {},
   "outputs": [],
   "source": [
    "tw_df['sentiment'] = sentiment_list"
   ]
  },
  {
   "cell_type": "code",
   "execution_count": 75,
   "metadata": {
    "scrolled": false
   },
   "outputs": [
    {
     "data": {
      "text/html": [
       "<div>\n",
       "<style scoped>\n",
       "    .dataframe tbody tr th:only-of-type {\n",
       "        vertical-align: middle;\n",
       "    }\n",
       "\n",
       "    .dataframe tbody tr th {\n",
       "        vertical-align: top;\n",
       "    }\n",
       "\n",
       "    .dataframe thead th {\n",
       "        text-align: right;\n",
       "    }\n",
       "</style>\n",
       "<table border=\"1\" class=\"dataframe\">\n",
       "  <thead>\n",
       "    <tr style=\"text-align: right;\">\n",
       "      <th></th>\n",
       "      <th>created_date</th>\n",
       "      <th>handle</th>\n",
       "      <th>text</th>\n",
       "      <th>retweet_count</th>\n",
       "      <th>likes_count</th>\n",
       "      <th>polarity</th>\n",
       "      <th>sentiment</th>\n",
       "    </tr>\n",
       "  </thead>\n",
       "  <tbody>\n",
       "    <tr>\n",
       "      <th>0</th>\n",
       "      <td>Wed Jan 15 02:22:11 +0000 2020</td>\n",
       "      <td>hardwork2018</td>\n",
       "      <td>RT @bullishstocks7: Looking for an investor in my startup, has the potential to get 100x your investment. Must be willing to sign an NDA. C…</td>\n",
       "      <td>2</td>\n",
       "      <td>0</td>\n",
       "      <td>0.125000</td>\n",
       "      <td>Somewhat Postive</td>\n",
       "    </tr>\n",
       "    <tr>\n",
       "      <th>1</th>\n",
       "      <td>Wed Jan 15 02:21:52 +0000 2020</td>\n",
       "      <td>spacemnke</td>\n",
       "      <td>🚨 US-China phase 1 trade deal signing ceremony to take place at 11.30am at the White House \\n————\\n$SPY $SPX $ES $DJX $AAPL $TSLA $BYND $AMZN $MSFT</td>\n",
       "      <td>0</td>\n",
       "      <td>0</td>\n",
       "      <td>0.000000</td>\n",
       "      <td>Neutral</td>\n",
       "    </tr>\n",
       "    <tr>\n",
       "      <th>2</th>\n",
       "      <td>Wed Jan 15 02:21:18 +0000 2020</td>\n",
       "      <td>TradeLikeGates</td>\n",
       "      <td>$AAPL - Short bias. Overvalued, and the President tweeted ab them not unlocking phones, depending on how large the gap down is, prepare to short this below the PM low. Below 309 is still a level to watch tho. We have to see where we open.</td>\n",
       "      <td>0</td>\n",
       "      <td>0</td>\n",
       "      <td>0.009788</td>\n",
       "      <td>Positive</td>\n",
       "    </tr>\n",
       "    <tr>\n",
       "      <th>3</th>\n",
       "      <td>Wed Jan 15 02:20:56 +0000 2020</td>\n",
       "      <td>BostonGoody</td>\n",
       "      <td>@realDonaldTrump Careful mr president most of us agree the government should stay outta our phones. Congrats to $aapl for sticking up for its customers. Now mr president it is ur job to find a way into that phone. But apple is right to deny law enforcement permission to our personal data sorry</td>\n",
       "      <td>0</td>\n",
       "      <td>0</td>\n",
       "      <td>0.037143</td>\n",
       "      <td>Positive</td>\n",
       "    </tr>\n",
       "    <tr>\n",
       "      <th>4</th>\n",
       "      <td>Wed Jan 15 02:20:30 +0000 2020</td>\n",
       "      <td>island2019</td>\n",
       "      <td>@alphatrends I bought $1000 of $AAPL in 1982 when I was in HS and kept it for year. I sold it for about the same amount. I didn’t by anything else for another 10 years. I used to check the price daily by calling my broker until I got a CompuServe account and they had daily quotes.  1200 baud!</td>\n",
       "      <td>0</td>\n",
       "      <td>2</td>\n",
       "      <td>0.000000</td>\n",
       "      <td>Neutral</td>\n",
       "    </tr>\n",
       "  </tbody>\n",
       "</table>\n",
       "</div>"
      ],
      "text/plain": [
       "                     created_date          handle  \\\n",
       "0  Wed Jan 15 02:22:11 +0000 2020    hardwork2018   \n",
       "1  Wed Jan 15 02:21:52 +0000 2020       spacemnke   \n",
       "2  Wed Jan 15 02:21:18 +0000 2020  TradeLikeGates   \n",
       "3  Wed Jan 15 02:20:56 +0000 2020     BostonGoody   \n",
       "4  Wed Jan 15 02:20:30 +0000 2020      island2019   \n",
       "\n",
       "                                                                                                                                                                                                                                                                                                     text  \\\n",
       "0                                                                                                                                                            RT @bullishstocks7: Looking for an investor in my startup, has the potential to get 100x your investment. Must be willing to sign an NDA. C…   \n",
       "1                                                                                                                                                     🚨 US-China phase 1 trade deal signing ceremony to take place at 11.30am at the White House \\n————\\n$SPY $SPX $ES $DJX $AAPL $TSLA $BYND $AMZN $MSFT   \n",
       "2                                                          $AAPL - Short bias. Overvalued, and the President tweeted ab them not unlocking phones, depending on how large the gap down is, prepare to short this below the PM low. Below 309 is still a level to watch tho. We have to see where we open.   \n",
       "3  @realDonaldTrump Careful mr president most of us agree the government should stay outta our phones. Congrats to $aapl for sticking up for its customers. Now mr president it is ur job to find a way into that phone. But apple is right to deny law enforcement permission to our personal data sorry   \n",
       "4   @alphatrends I bought $1000 of $AAPL in 1982 when I was in HS and kept it for year. I sold it for about the same amount. I didn’t by anything else for another 10 years. I used to check the price daily by calling my broker until I got a CompuServe account and they had daily quotes.  1200 baud!   \n",
       "\n",
       "   retweet_count  likes_count  polarity         sentiment  \n",
       "0              2            0  0.125000  Somewhat Postive  \n",
       "1              0            0  0.000000           Neutral  \n",
       "2              0            0  0.009788          Positive  \n",
       "3              0            0  0.037143          Positive  \n",
       "4              0            2  0.000000           Neutral  "
      ]
     },
     "execution_count": 75,
     "metadata": {},
     "output_type": "execute_result"
    }
   ],
   "source": [
    "tw_df.head()"
   ]
  },
  {
   "cell_type": "code",
   "execution_count": 76,
   "metadata": {},
   "outputs": [
    {
     "data": {
      "text/html": [
       "<div>\n",
       "<style scoped>\n",
       "    .dataframe tbody tr th:only-of-type {\n",
       "        vertical-align: middle;\n",
       "    }\n",
       "\n",
       "    .dataframe tbody tr th {\n",
       "        vertical-align: top;\n",
       "    }\n",
       "\n",
       "    .dataframe thead th {\n",
       "        text-align: right;\n",
       "    }\n",
       "</style>\n",
       "<table border=\"1\" class=\"dataframe\">\n",
       "  <thead>\n",
       "    <tr style=\"text-align: right;\">\n",
       "      <th></th>\n",
       "      <th>created_date</th>\n",
       "      <th>handle</th>\n",
       "      <th>text</th>\n",
       "      <th>retweet_count</th>\n",
       "      <th>likes_count</th>\n",
       "      <th>polarity</th>\n",
       "      <th>sentiment</th>\n",
       "    </tr>\n",
       "  </thead>\n",
       "  <tbody>\n",
       "    <tr>\n",
       "      <th>0</th>\n",
       "      <td>2020-01-15 02:22:11</td>\n",
       "      <td>hardwork2018</td>\n",
       "      <td>RT @bullishstocks7: Looking for an investor in my startup, has the potential to get 100x your investment. Must be willing to sign an NDA. C…</td>\n",
       "      <td>2</td>\n",
       "      <td>0</td>\n",
       "      <td>0.12500</td>\n",
       "      <td>Somewhat Postive</td>\n",
       "    </tr>\n",
       "    <tr>\n",
       "      <th>1</th>\n",
       "      <td>2020-01-15 02:21:52</td>\n",
       "      <td>spacemnke</td>\n",
       "      <td>🚨 US-China phase 1 trade deal signing ceremony to take place at 11.30am at the White House \\n————\\n$SPY $SPX $ES $DJX $AAPL $TSLA $BYND $AMZN $MSFT</td>\n",
       "      <td>0</td>\n",
       "      <td>0</td>\n",
       "      <td>0.00000</td>\n",
       "      <td>Neutral</td>\n",
       "    </tr>\n",
       "    <tr>\n",
       "      <th>2</th>\n",
       "      <td>2020-01-15 02:21:18</td>\n",
       "      <td>TradeLikeGates</td>\n",
       "      <td>$AAPL - Short bias. Overvalued, and the President tweeted ab them not unlocking phones, depending on how large the gap down is, prepare to short this below the PM low. Below 309 is still a level to watch tho. We have to see where we open.</td>\n",
       "      <td>0</td>\n",
       "      <td>0</td>\n",
       "      <td>0.00979</td>\n",
       "      <td>Positive</td>\n",
       "    </tr>\n",
       "    <tr>\n",
       "      <th>3</th>\n",
       "      <td>2020-01-15 02:20:56</td>\n",
       "      <td>BostonGoody</td>\n",
       "      <td>@realDonaldTrump Careful mr president most of us agree the government should stay outta our phones. Congrats to $aapl for sticking up for its customers. Now mr president it is ur job to find a way into that phone. But apple is right to deny law enforcement permission to our personal data sorry</td>\n",
       "      <td>0</td>\n",
       "      <td>0</td>\n",
       "      <td>0.03714</td>\n",
       "      <td>Positive</td>\n",
       "    </tr>\n",
       "    <tr>\n",
       "      <th>4</th>\n",
       "      <td>2020-01-15 02:20:30</td>\n",
       "      <td>island2019</td>\n",
       "      <td>@alphatrends I bought $1000 of $AAPL in 1982 when I was in HS and kept it for year. I sold it for about the same amount. I didn’t by anything else for another 10 years. I used to check the price daily by calling my broker until I got a CompuServe account and they had daily quotes.  1200 baud!</td>\n",
       "      <td>0</td>\n",
       "      <td>2</td>\n",
       "      <td>0.00000</td>\n",
       "      <td>Neutral</td>\n",
       "    </tr>\n",
       "  </tbody>\n",
       "</table>\n",
       "</div>"
      ],
      "text/plain": [
       "         created_date          handle  \\\n",
       "0 2020-01-15 02:22:11    hardwork2018   \n",
       "1 2020-01-15 02:21:52       spacemnke   \n",
       "2 2020-01-15 02:21:18  TradeLikeGates   \n",
       "3 2020-01-15 02:20:56     BostonGoody   \n",
       "4 2020-01-15 02:20:30      island2019   \n",
       "\n",
       "                                                                                                                                                                                                                                                                                                     text  \\\n",
       "0                                                                                                                                                            RT @bullishstocks7: Looking for an investor in my startup, has the potential to get 100x your investment. Must be willing to sign an NDA. C…   \n",
       "1                                                                                                                                                     🚨 US-China phase 1 trade deal signing ceremony to take place at 11.30am at the White House \\n————\\n$SPY $SPX $ES $DJX $AAPL $TSLA $BYND $AMZN $MSFT   \n",
       "2                                                          $AAPL - Short bias. Overvalued, and the President tweeted ab them not unlocking phones, depending on how large the gap down is, prepare to short this below the PM low. Below 309 is still a level to watch tho. We have to see where we open.   \n",
       "3  @realDonaldTrump Careful mr president most of us agree the government should stay outta our phones. Congrats to $aapl for sticking up for its customers. Now mr president it is ur job to find a way into that phone. But apple is right to deny law enforcement permission to our personal data sorry   \n",
       "4   @alphatrends I bought $1000 of $AAPL in 1982 when I was in HS and kept it for year. I sold it for about the same amount. I didn’t by anything else for another 10 years. I used to check the price daily by calling my broker until I got a CompuServe account and they had daily quotes.  1200 baud!   \n",
       "\n",
       "   retweet_count  likes_count  polarity         sentiment  \n",
       "0              2            0   0.12500  Somewhat Postive  \n",
       "1              0            0   0.00000           Neutral  \n",
       "2              0            0   0.00979          Positive  \n",
       "3              0            0   0.03714          Positive  \n",
       "4              0            2   0.00000           Neutral  "
      ]
     },
     "execution_count": 76,
     "metadata": {},
     "output_type": "execute_result"
    }
   ],
   "source": [
    "# Formatted tw_df columns and drop tweet_id\n",
    "tw_df = tw_df.astype({\"created_date\": 'datetime64'}).round({'polarity': 5})\n",
    "tw_df.head()"
   ]
  },
  {
   "cell_type": "code",
   "execution_count": 77,
   "metadata": {},
   "outputs": [],
   "source": [
    "# I set the max possible for column width\n",
    "pd.options.display.max_colwidth = 500"
   ]
  },
  {
   "cell_type": "code",
   "execution_count": 79,
   "metadata": {},
   "outputs": [
    {
     "data": {
      "text/html": [
       "<div>\n",
       "<style scoped>\n",
       "    .dataframe tbody tr th:only-of-type {\n",
       "        vertical-align: middle;\n",
       "    }\n",
       "\n",
       "    .dataframe tbody tr th {\n",
       "        vertical-align: top;\n",
       "    }\n",
       "\n",
       "    .dataframe thead th {\n",
       "        text-align: right;\n",
       "    }\n",
       "</style>\n",
       "<table border=\"1\" class=\"dataframe\">\n",
       "  <thead>\n",
       "    <tr style=\"text-align: right;\">\n",
       "      <th></th>\n",
       "      <th>created_date</th>\n",
       "      <th>handle</th>\n",
       "      <th>text</th>\n",
       "      <th>retweet_count</th>\n",
       "      <th>likes_count</th>\n",
       "      <th>polarity</th>\n",
       "      <th>sentiment</th>\n",
       "    </tr>\n",
       "  </thead>\n",
       "  <tbody>\n",
       "    <tr>\n",
       "      <th>0</th>\n",
       "      <td>2020-01-15 02:22:11</td>\n",
       "      <td>hardwork2018</td>\n",
       "      <td>RT @bullishstocks7: Looking for an investor in my startup, has the potential to get 100x your investment. Must be willing to sign an NDA. C…</td>\n",
       "      <td>2</td>\n",
       "      <td>0</td>\n",
       "      <td>0.12500</td>\n",
       "      <td>Somewhat Postive</td>\n",
       "    </tr>\n",
       "    <tr>\n",
       "      <th>1</th>\n",
       "      <td>2020-01-15 02:21:52</td>\n",
       "      <td>spacemnke</td>\n",
       "      <td>🚨 US-China phase 1 trade deal signing ceremony to take place at 11.30am at the White House \\n————\\n$SPY $SPX $ES $DJX $AAPL $TSLA $BYND $AMZN $MSFT</td>\n",
       "      <td>0</td>\n",
       "      <td>0</td>\n",
       "      <td>0.00000</td>\n",
       "      <td>Neutral</td>\n",
       "    </tr>\n",
       "    <tr>\n",
       "      <th>2</th>\n",
       "      <td>2020-01-15 02:21:18</td>\n",
       "      <td>TradeLikeGates</td>\n",
       "      <td>$AAPL - Short bias. Overvalued, and the President tweeted ab them not unlocking phones, depending on how large the gap down is, prepare to short this below the PM low. Below 309 is still a level to watch tho. We have to see where we open.</td>\n",
       "      <td>0</td>\n",
       "      <td>0</td>\n",
       "      <td>0.00979</td>\n",
       "      <td>Positive</td>\n",
       "    </tr>\n",
       "    <tr>\n",
       "      <th>3</th>\n",
       "      <td>2020-01-15 02:20:56</td>\n",
       "      <td>BostonGoody</td>\n",
       "      <td>@realDonaldTrump Careful mr president most of us agree the government should stay outta our phones. Congrats to $aapl for sticking up for its customers. Now mr president it is ur job to find a way into that phone. But apple is right to deny law enforcement permission to our personal data sorry</td>\n",
       "      <td>0</td>\n",
       "      <td>0</td>\n",
       "      <td>0.03714</td>\n",
       "      <td>Positive</td>\n",
       "    </tr>\n",
       "    <tr>\n",
       "      <th>4</th>\n",
       "      <td>2020-01-15 02:20:30</td>\n",
       "      <td>island2019</td>\n",
       "      <td>@alphatrends I bought $1000 of $AAPL in 1982 when I was in HS and kept it for year. I sold it for about the same amount. I didn’t by anything else for another 10 years. I used to check the price daily by calling my broker until I got a CompuServe account and they had daily quotes.  1200 baud!</td>\n",
       "      <td>0</td>\n",
       "      <td>2</td>\n",
       "      <td>0.00000</td>\n",
       "      <td>Neutral</td>\n",
       "    </tr>\n",
       "  </tbody>\n",
       "</table>\n",
       "</div>"
      ],
      "text/plain": [
       "         created_date          handle  \\\n",
       "0 2020-01-15 02:22:11    hardwork2018   \n",
       "1 2020-01-15 02:21:52       spacemnke   \n",
       "2 2020-01-15 02:21:18  TradeLikeGates   \n",
       "3 2020-01-15 02:20:56     BostonGoody   \n",
       "4 2020-01-15 02:20:30      island2019   \n",
       "\n",
       "                                                                                                                                                                                                                                                                                                     text  \\\n",
       "0                                                                                                                                                            RT @bullishstocks7: Looking for an investor in my startup, has the potential to get 100x your investment. Must be willing to sign an NDA. C…   \n",
       "1                                                                                                                                                     🚨 US-China phase 1 trade deal signing ceremony to take place at 11.30am at the White House \\n————\\n$SPY $SPX $ES $DJX $AAPL $TSLA $BYND $AMZN $MSFT   \n",
       "2                                                          $AAPL - Short bias. Overvalued, and the President tweeted ab them not unlocking phones, depending on how large the gap down is, prepare to short this below the PM low. Below 309 is still a level to watch tho. We have to see where we open.   \n",
       "3  @realDonaldTrump Careful mr president most of us agree the government should stay outta our phones. Congrats to $aapl for sticking up for its customers. Now mr president it is ur job to find a way into that phone. But apple is right to deny law enforcement permission to our personal data sorry   \n",
       "4   @alphatrends I bought $1000 of $AAPL in 1982 when I was in HS and kept it for year. I sold it for about the same amount. I didn’t by anything else for another 10 years. I used to check the price daily by calling my broker until I got a CompuServe account and they had daily quotes.  1200 baud!   \n",
       "\n",
       "   retweet_count  likes_count  polarity         sentiment  \n",
       "0              2            0   0.12500  Somewhat Postive  \n",
       "1              0            0   0.00000           Neutral  \n",
       "2              0            0   0.00979          Positive  \n",
       "3              0            0   0.03714          Positive  \n",
       "4              0            2   0.00000           Neutral  "
      ]
     },
     "execution_count": 79,
     "metadata": {},
     "output_type": "execute_result"
    }
   ],
   "source": [
    "tw_df.head()"
   ]
  },
  {
   "cell_type": "code",
   "execution_count": 39,
   "metadata": {},
   "outputs": [],
   "source": [
    "sorted_df= tw_df.sort_values(by=['polarity'])"
   ]
  },
  {
   "cell_type": "code",
   "execution_count": 51,
   "metadata": {},
   "outputs": [],
   "source": [
    "#sorted_df"
   ]
  },
  {
   "cell_type": "code",
   "execution_count": 34,
   "metadata": {},
   "outputs": [
    {
     "data": {
      "text/plain": [
       "0.8"
      ]
     },
     "execution_count": 34,
     "metadata": {},
     "output_type": "execute_result"
    }
   ],
   "source": [
    "sorted_df.polarity.max()"
   ]
  },
  {
   "cell_type": "code",
   "execution_count": 52,
   "metadata": {},
   "outputs": [
    {
     "data": {
      "text/html": [
       "<div>\n",
       "<style scoped>\n",
       "    .dataframe tbody tr th:only-of-type {\n",
       "        vertical-align: middle;\n",
       "    }\n",
       "\n",
       "    .dataframe tbody tr th {\n",
       "        vertical-align: top;\n",
       "    }\n",
       "\n",
       "    .dataframe thead th {\n",
       "        text-align: right;\n",
       "    }\n",
       "</style>\n",
       "<table border=\"1\" class=\"dataframe\">\n",
       "  <thead>\n",
       "    <tr style=\"text-align: right;\">\n",
       "      <th></th>\n",
       "      <th>handle</th>\n",
       "      <th>text</th>\n",
       "      <th>polarity</th>\n",
       "      <th>sentiment</th>\n",
       "    </tr>\n",
       "  </thead>\n",
       "  <tbody>\n",
       "    <tr>\n",
       "      <th>54</th>\n",
       "      <td>Gambiste1</td>\n",
       "      <td>RT @nargis007: @JMVala_Trades @afortunetrading @MDTrades12 Just think where the TTT is coming at. $AAPL 312.5 lol</td>\n",
       "      <td>0.8</td>\n",
       "      <td>Positive</td>\n",
       "    </tr>\n",
       "  </tbody>\n",
       "</table>\n",
       "</div>"
      ],
      "text/plain": [
       "       handle  \\\n",
       "54  Gambiste1   \n",
       "\n",
       "                                                                                                                 text  \\\n",
       "54  RT @nargis007: @JMVala_Trades @afortunetrading @MDTrades12 Just think where the TTT is coming at. $AAPL 312.5 lol   \n",
       "\n",
       "    polarity sentiment  \n",
       "54       0.8  Positive  "
      ]
     },
     "execution_count": 52,
     "metadata": {},
     "output_type": "execute_result"
    }
   ],
   "source": [
    "best_tweet= sorted_df[sorted_df['polarity'] == sorted_df['polarity'].max()]\n",
    "filtered_best_tweet = best_tweet.drop(columns=['created_date', 'retweet_count', 'likes_count'])\n",
    "filtered_best_tweet"
   ]
  },
  {
   "cell_type": "code",
   "execution_count": 63,
   "metadata": {},
   "outputs": [
    {
     "data": {
      "text/plain": [
       "['RT @nargis007: @JMVala_Trades @afortunetrading @MDTrades12 Just think where the TTT is coming at. $AAPL 312.5 lol']"
      ]
     },
     "execution_count": 63,
     "metadata": {},
     "output_type": "execute_result"
    }
   ],
   "source": [
    "filtered_best_tweet['text'].tolist()"
   ]
  },
  {
   "cell_type": "code",
   "execution_count": 53,
   "metadata": {},
   "outputs": [
    {
     "data": {
      "text/html": [
       "<div>\n",
       "<style scoped>\n",
       "    .dataframe tbody tr th:only-of-type {\n",
       "        vertical-align: middle;\n",
       "    }\n",
       "\n",
       "    .dataframe tbody tr th {\n",
       "        vertical-align: top;\n",
       "    }\n",
       "\n",
       "    .dataframe thead th {\n",
       "        text-align: right;\n",
       "    }\n",
       "</style>\n",
       "<table border=\"1\" class=\"dataframe\">\n",
       "  <thead>\n",
       "    <tr style=\"text-align: right;\">\n",
       "      <th></th>\n",
       "      <th>handle</th>\n",
       "      <th>text</th>\n",
       "      <th>polarity</th>\n",
       "      <th>sentiment</th>\n",
       "    </tr>\n",
       "  </thead>\n",
       "  <tbody>\n",
       "    <tr>\n",
       "      <th>44</th>\n",
       "      <td>Gambiste1</td>\n",
       "      <td>RT @weeklystockchar: @MDTrades12 @sssvenky @afortunetrading @JMVala_Trades $AAPL is hardly budging...311's now</td>\n",
       "      <td>-0.29167</td>\n",
       "      <td>Somewhat Negative</td>\n",
       "    </tr>\n",
       "  </tbody>\n",
       "</table>\n",
       "</div>"
      ],
      "text/plain": [
       "       handle  \\\n",
       "44  Gambiste1   \n",
       "\n",
       "                                                                                                              text  \\\n",
       "44  RT @weeklystockchar: @MDTrades12 @sssvenky @afortunetrading @JMVala_Trades $AAPL is hardly budging...311's now   \n",
       "\n",
       "    polarity          sentiment  \n",
       "44  -0.29167  Somewhat Negative  "
      ]
     },
     "execution_count": 53,
     "metadata": {},
     "output_type": "execute_result"
    }
   ],
   "source": [
    "worst_tweet = sorted_df[sorted_df['polarity'] == sorted_df['polarity'].min()]\n",
    "filtered_worst_tweet = worst_tweet.drop(columns=['created_date', 'retweet_count', 'likes_count'])\n",
    "filtered_worst_tweet"
   ]
  },
  {
   "cell_type": "code",
   "execution_count": 64,
   "metadata": {},
   "outputs": [
    {
     "data": {
      "text/plain": [
       "44    RT @weeklystockchar: @MDTrades12 @sssvenky @afortunetrading @JMVala_Trades $AAPL is hardly budging...311's now\n",
       "Name: text, dtype: object"
      ]
     },
     "execution_count": 64,
     "metadata": {},
     "output_type": "execute_result"
    }
   ],
   "source": [
    "filtered_worst_tweet.text"
   ]
  },
  {
   "cell_type": "code",
   "execution_count": null,
   "metadata": {},
   "outputs": [],
   "source": [
    "sorted "
   ]
  },
  {
   "cell_type": "code",
   "execution_count": null,
   "metadata": {},
   "outputs": [],
   "source": [
    "#pd.set_option('display.max_columns', None)"
   ]
  },
  {
   "cell_type": "code",
   "execution_count": null,
   "metadata": {},
   "outputs": [],
   "source": [
    "tw_df.describe()"
   ]
  },
  {
   "cell_type": "code",
   "execution_count": null,
   "metadata": {},
   "outputs": [],
   "source": [
    "f_tw_df = tw_df.loc[(tw_df['retweet_count'] >= 1) & (tw_df['retweet_count'] <= 50)]\n",
    "f_tw_df.describe()"
   ]
  },
  {
   "cell_type": "code",
   "execution_count": null,
   "metadata": {},
   "outputs": [],
   "source": [
    "#tw_df.style.set_properties(subset=['text'], **{'width': '500px'})"
   ]
  },
  {
   "cell_type": "code",
   "execution_count": 86,
   "metadata": {},
   "outputs": [],
   "source": [
    "#Vectorizing the wine df\n",
    "vect = TfidfVectorizer(ngram_range=(2,5), stop_words='english')\n",
    "\n",
    "summaries = \"\".join(tw_df['text'])\n",
    "ngrams_summaries = vect.build_analyzer()(summaries)\n",
    "\n",
    "word = Counter(ngrams_summaries).most_common(20)"
   ]
  },
  {
   "cell_type": "code",
   "execution_count": 87,
   "metadata": {},
   "outputs": [
    {
     "data": {
      "text/plain": [
       "[('aapl tsla', 6),\n",
       " ('aapl https', 6),\n",
       " ('gerberkawasaki tesla', 6),\n",
       " ('tesla stock', 6),\n",
       " ('stock hits', 6),\n",
       " ('hits time', 6),\n",
       " ('time high', 6),\n",
       " ('high invest', 6),\n",
       " ('invest great', 6),\n",
       " ('great spot', 6),\n",
       " ('spot today', 6),\n",
       " ('today lizclaman', 6),\n",
       " ('lizclaman advice', 6),\n",
       " ('advice think', 6),\n",
       " ('think abo', 6),\n",
       " ('gerberkawasaki tesla stock', 6),\n",
       " ('tesla stock hits', 6),\n",
       " ('stock hits time', 6),\n",
       " ('hits time high', 6),\n",
       " ('time high invest', 6)]"
      ]
     },
     "execution_count": 87,
     "metadata": {},
     "output_type": "execute_result"
    }
   ],
   "source": [
    "word"
   ]
  },
  {
   "cell_type": "code",
   "execution_count": null,
   "metadata": {},
   "outputs": [],
   "source": [
    "# Create size of the chart\n",
    "fig = plt.figure(figsize=(10,10))\n",
    "\n",
    "#assign values you want to plot to the x axis and the y axis\n",
    "point_x = tw_df.retweet_count\n",
    "price_y = tw_df.polarity\n",
    "\n",
    "#assign \n",
    "plt.xlabel('Retweet count')\n",
    "plt.ylabel('Polarity')\n",
    "plt.title('Retweet vs. Polarity')\n",
    "\n",
    "plt.scatter(point_x, price_y, alpha=0.5)\n",
    "\n",
    "plt.show()"
   ]
  },
  {
   "cell_type": "code",
   "execution_count": null,
   "metadata": {},
   "outputs": [],
   "source": [
    "# # Create size of the chart\n",
    "# fig = plt.figure(figsize=(10,10))\n",
    "\n",
    "# #assign values you want to plot to the x axis and the y axis\n",
    "# point_x = tw_df.likes_count\n",
    "# price_y = tw_df.polarity\n",
    "\n",
    "# #assign \n",
    "# plt.xlabel('Likes count')\n",
    "# plt.ylabel('Polarity')\n",
    "# plt.title('Retweet vs. Polarity')\n",
    "\n",
    "# plt.scatter(point_x, price_y, alpha=0.5)\n",
    "\n",
    "# plt.show()"
   ]
  },
  {
   "cell_type": "code",
   "execution_count": null,
   "metadata": {},
   "outputs": [],
   "source": []
  }
 ],
 "metadata": {
  "kernelspec": {
   "display_name": "Python 3",
   "language": "python",
   "name": "python3"
  },
  "language_info": {
   "codemirror_mode": {
    "name": "ipython",
    "version": 3
   },
   "file_extension": ".py",
   "mimetype": "text/x-python",
   "name": "python",
   "nbconvert_exporter": "python",
   "pygments_lexer": "ipython3",
   "version": "3.7.3"
  }
 },
 "nbformat": 4,
 "nbformat_minor": 2
}
